{
 "cells": [
  {
   "cell_type": "markdown",
   "id": "c24cd37a-001e-4176-ba65-79f0419134f4",
   "metadata": {},
   "source": [
    "# Data Science tools and ecosystem"
   ]
  },
  {
   "cell_type": "markdown",
   "id": "e09f6098-84ea-4275-b20f-22099ca47a33",
   "metadata": {},
   "source": [
    "## In this notebook, data science tools and ecosystem are summarised"
   ]
  },
  {
   "cell_type": "markdown",
   "id": "e7616124-ebd2-42fe-bc29-a3053c75847b",
   "metadata": {},
   "source": [
    "## Some of the popular languages data scientists use are: \n",
    "1. python\n",
    "2. Java\n",
    "3. C++\n",
    "4. C"
   ]
  },
  {
   "cell_type": "markdown",
   "id": "ef0971f8-5a8d-41b3-90d7-d14c73b7701a",
   "metadata": {},
   "source": [
    "## Some of the popular libraries data used by data scientists include:\n",
    "1. Pandas\n",
    "2. NumPy\n",
    "3. SciPy\n",
    "4. PyTorch"
   ]
  },
  {
   "cell_type": "markdown",
   "id": "3de1c385-2475-4098-a8e6-c3ec67d5560b",
   "metadata": {},
   "source": [
    "| Data Science Tools |\n",
    "| ------------------ |\n",
    "| Jupyter Notebook |\n",
    "| RStudio |\n",
    "| Github |"
   ]
  },
  {
   "cell_type": "markdown",
   "id": "ca8444cf-cf24-4449-bf38-2ac7ce0d430b",
   "metadata": {},
   "source": [
    "***\n",
    "### Below are a few examples of evaluating arithmetic expressions in Python"
   ]
  },
  {
   "cell_type": "markdown",
   "id": "faf30ebc-bd47-4481-96a7-885b15dbd66c",
   "metadata": {},
   "source": [
    "### This a simple arithmetic expression to mutiply then add integers"
   ]
  },
  {
   "cell_type": "code",
   "execution_count": 2,
   "id": "693bc6cb-a927-4ff6-b28b-4edbf2fd7148",
   "metadata": {},
   "outputs": [
    {
     "data": {
      "text/plain": [
       "17"
      ]
     },
     "execution_count": 2,
     "metadata": {},
     "output_type": "execute_result"
    }
   ],
   "source": [
    "(3*4)+5"
   ]
  },
  {
   "cell_type": "markdown",
   "id": "5d71233f-9ac8-48e1-aee5-becda6dc0673",
   "metadata": {},
   "source": [
    "### This will convert 200 minutes to hours by diving by 60"
   ]
  },
  {
   "cell_type": "code",
   "execution_count": 3,
   "id": "545fb338-663b-445a-8477-79776c01d3be",
   "metadata": {},
   "outputs": [
    {
     "data": {
      "text/plain": [
       "3.3333333333333335"
      ]
     },
     "execution_count": 3,
     "metadata": {},
     "output_type": "execute_result"
    }
   ],
   "source": [
    "200/60"
   ]
  },
  {
   "cell_type": "markdown",
   "id": "5a85b9df-371c-4e12-b81b-4bbc217b4d1b",
   "metadata": {},
   "source": [
    "*** \n",
    "**Objectives:** List popular languages for Data Science:\n",
    "* Python\n",
    "* Java\n",
    "* C++\n",
    "* C"
   ]
  },
  {
   "cell_type": "markdown",
   "id": "2a76e200-bf3b-4be6-a471-594c70e57362",
   "metadata": {},
   "source": [
    "***\n",
    "**Author:**\n",
    "  Mufan Guo"
   ]
  },
  {
   "cell_type": "code",
   "execution_count": null,
   "id": "f27597f5-81de-4fc1-acec-d187e91a08cc",
   "metadata": {},
   "outputs": [],
   "source": []
  }
 ],
 "metadata": {
  "kernelspec": {
   "display_name": "Python 3 (ipykernel)",
   "language": "python",
   "name": "python3"
  },
  "language_info": {
   "codemirror_mode": {
    "name": "ipython",
    "version": 3
   },
   "file_extension": ".py",
   "mimetype": "text/x-python",
   "name": "python",
   "nbconvert_exporter": "python",
   "pygments_lexer": "ipython3",
   "version": "3.11.7"
  }
 },
 "nbformat": 4,
 "nbformat_minor": 5
}
